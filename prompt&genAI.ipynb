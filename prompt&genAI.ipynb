{
 "cells": [
  {
   "cell_type": "code",
   "execution_count": 1,
   "metadata": {},
   "outputs": [],
   "source": [
    "import pandas as pd\n",
    "\n",
    "import google.generativeai as genai\n",
    "import os\n",
    "from dotenv import load_dotenv"
   ]
  },
  {
   "cell_type": "code",
   "execution_count": 2,
   "metadata": {},
   "outputs": [],
   "source": [
    "load_dotenv()\n",
    "API_KEY = os.getenv(\"API_KEY\")\n",
    "\n",
    "genai.configure(api_key=API_KEY)\n",
    "headers = {'Content-Type': 'application/json'}\n",
    "model = genai.GenerativeModel('gemini-pro')"
   ]
  },
  {
   "cell_type": "code",
   "execution_count": 3,
   "metadata": {},
   "outputs": [],
   "source": [
    "def dataReader(fileName):\n",
    "    df = pd.read_csv(fileName)\n",
    "    df_str = df.to_string()\n",
    "    return df_str"
   ]
  },
  {
   "cell_type": "code",
   "execution_count": 6,
   "metadata": {},
   "outputs": [],
   "source": [
    "history = []\n",
    "def aiAdvisor(df_str):\n",
    "    global history\n",
    "    \n",
    "    user_input = input(\"enter a question: \")\n",
    "    history.append({\"role\": \"user\", \"content\": user_input})\n",
    "    \n",
    "    prompting = f\"請根據下表格中的資料回答我的問題：\\n{df_str}\\n問題：{user_input}\"\n",
    "    \n",
    "    response = model.generate_content(\n",
    "        prompting,\n",
    "        generation_config=genai.types.GenerationConfig(max_output_tokens=800,temperature=0.5)\n",
    "    )\n",
    "    \n",
    "    history.append({\"role\": \"assistant\", \"content\": response.text})\n",
    "\n",
    "    return response.text"
   ]
  },
  {
   "cell_type": "code",
   "execution_count": 8,
   "metadata": {},
   "outputs": [
    {
     "name": "stdout",
     "output_type": "stream",
     "text": [
      "**6015 宏遠證**\n",
      "\n",
      "* **基本面：**收益穩定，營業利益和淨利持續成長，財務結構健康，流動資產充足，負債比率低。\n",
      "* **技術面：**股價近期震盪整理，目前處於相對低檔，基本面支撐強勁。\n",
      "* **低頻交易策略：**考慮在股價回檔至相對低點時逢低買進，並設定停損點在更低價位，目標價位設定在近期高點之上。\n",
      "\n",
      "**6016 康和證**\n",
      "\n",
      "* **基本面：**收益成長穩定，營業利益和淨利穩健，財務結構穩健，流動資產充足，負債比率低。\n",
      "* **技術面：**股價近期震盪整理，目前處於相對低檔，基本面支撐強勁。\n",
      "* **低頻交易策略：**考慮在股價回檔至相對低點時逢低買進，並設定停損點在更低價位，目標價位設定在近期高點之上。\n",
      "\n",
      "**6020 大展證**\n",
      "\n",
      "* **基本面：**收益成長趨緩，營業利益和淨利波動較大，財務結構穩健，流動資產充足，負債比率低。\n",
      "* **技術面：**股價近期震盪整理，目前處於相對低檔，基本面支撐較弱。\n",
      "* **低頻交易策略：**考慮在股價回檔至相對低點時逢低買進，但需謹慎設定停損點，目標價位設定在近期高點之上，但需注意基本面風險。\n"
     ]
    }
   ],
   "source": [
    "data_1 = dataReader(\"final_result_1.csv\")\n",
    "\n",
    "a = aiAdvisor(data_1)\n",
    "print(a)"
   ]
  },
  {
   "cell_type": "code",
   "execution_count": null,
   "metadata": {},
   "outputs": [],
   "source": []
  }
 ],
 "metadata": {
  "kernelspec": {
   "display_name": "Python 3",
   "language": "python",
   "name": "python3"
  },
  "language_info": {
   "codemirror_mode": {
    "name": "ipython",
    "version": 3
   },
   "file_extension": ".py",
   "mimetype": "text/x-python",
   "name": "python",
   "nbconvert_exporter": "python",
   "pygments_lexer": "ipython3",
   "version": "3.12.7"
  }
 },
 "nbformat": 4,
 "nbformat_minor": 2
}
