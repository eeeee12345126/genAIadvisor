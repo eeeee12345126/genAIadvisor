{
 "cells": [
  {
   "cell_type": "markdown",
   "metadata": {},
   "source": [
    "#### Data Processing module"
   ]
  },
  {
   "cell_type": "code",
   "execution_count": 1,
   "metadata": {},
   "outputs": [],
   "source": [
    "import requests\n",
    "import pandas as pd"
   ]
  },
  {
   "cell_type": "code",
   "execution_count": 2,
   "metadata": {},
   "outputs": [],
   "source": [
    "## 上櫃公司資產負債表\n",
    "\n",
    "BSUrl = \"https://www.tpex.org.tw/openapi/v1/mopsfin_t187ap07_O_bd\"\n",
    "\n",
    "BSResponse = requests.get(BSUrl)\n",
    "a = BSResponse.json()\n",
    "BSdf = pd.DataFrame(a)"
   ]
  },
  {
   "cell_type": "code",
   "execution_count": 3,
   "metadata": {},
   "outputs": [
    {
     "data": {
      "text/html": [
       "<div>\n",
       "<style scoped>\n",
       "    .dataframe tbody tr th:only-of-type {\n",
       "        vertical-align: middle;\n",
       "    }\n",
       "\n",
       "    .dataframe tbody tr th {\n",
       "        vertical-align: top;\n",
       "    }\n",
       "\n",
       "    .dataframe thead th {\n",
       "        text-align: right;\n",
       "    }\n",
       "</style>\n",
       "<table border=\"1\" class=\"dataframe\">\n",
       "  <thead>\n",
       "    <tr style=\"text-align: right;\">\n",
       "      <th></th>\n",
       "      <th>出表日期</th>\n",
       "      <th>年度</th>\n",
       "      <th>季別</th>\n",
       "      <th>公司代號</th>\n",
       "      <th>公司名稱</th>\n",
       "      <th>流動資產</th>\n",
       "      <th>非流動資產</th>\n",
       "      <th>資產總計</th>\n",
       "      <th>流動負債</th>\n",
       "      <th>非流動負債</th>\n",
       "      <th>...</th>\n",
       "      <th>庫藏股票</th>\n",
       "      <th>歸屬於母公司業主權益合計</th>\n",
       "      <th>共同控制下前手權益</th>\n",
       "      <th>合併前非屬共同控制股權</th>\n",
       "      <th>非控制權益</th>\n",
       "      <th>權益總計</th>\n",
       "      <th>待註銷股本股數（單位：股）</th>\n",
       "      <th>預收股款（權益項下）之約當發行股數（單位：股）</th>\n",
       "      <th>母公司暨子公司持有之母公司庫藏股股數（單位：股）</th>\n",
       "      <th>每股參考淨值</th>\n",
       "    </tr>\n",
       "  </thead>\n",
       "  <tbody>\n",
       "    <tr>\n",
       "      <th>0</th>\n",
       "      <td>1140203</td>\n",
       "      <td></td>\n",
       "      <td></td>\n",
       "      <td></td>\n",
       "      <td></td>\n",
       "      <td></td>\n",
       "      <td></td>\n",
       "      <td></td>\n",
       "      <td></td>\n",
       "      <td></td>\n",
       "      <td>...</td>\n",
       "      <td></td>\n",
       "      <td></td>\n",
       "      <td></td>\n",
       "      <td></td>\n",
       "      <td></td>\n",
       "      <td></td>\n",
       "      <td></td>\n",
       "      <td></td>\n",
       "      <td></td>\n",
       "      <td></td>\n",
       "    </tr>\n",
       "  </tbody>\n",
       "</table>\n",
       "<p>1 rows × 26 columns</p>\n",
       "</div>"
      ],
      "text/plain": [
       "      出表日期 年度 季別 公司代號 公司名稱 流動資產 非流動資產 資產總計 流動負債 非流動負債  ... 庫藏股票 歸屬於母公司業主權益合計  \\\n",
       "0  1140203                                             ...                     \n",
       "\n",
       "  共同控制下前手權益 合併前非屬共同控制股權 非控制權益 權益總計 待註銷股本股數（單位：股） 預收股款（權益項下）之約當發行股數（單位：股）  \\\n",
       "0                                                                          \n",
       "\n",
       "  母公司暨子公司持有之母公司庫藏股股數（單位：股） 每股參考淨值  \n",
       "0                                  \n",
       "\n",
       "[1 rows x 26 columns]"
      ]
     },
     "execution_count": 3,
     "metadata": {},
     "output_type": "execute_result"
    }
   ],
   "source": [
    "BSdf"
   ]
  },
  {
   "cell_type": "code",
   "execution_count": 4,
   "metadata": {},
   "outputs": [],
   "source": [
    "## 上櫃公司財報資訊\n",
    "\n",
    "ISurl = \"https://www.tpex.org.tw/openapi/v1/mopsfin_t187ap06_O_bdA\"\n",
    "\n",
    "ISresponse = requests.get(ISurl)\n",
    "b = ISresponse.json()\n",
    "ISdf = pd.DataFrame(b)"
   ]
  },
  {
   "cell_type": "code",
   "execution_count": 5,
   "metadata": {},
   "outputs": [
    {
     "data": {
      "text/html": [
       "<div>\n",
       "<style scoped>\n",
       "    .dataframe tbody tr th:only-of-type {\n",
       "        vertical-align: middle;\n",
       "    }\n",
       "\n",
       "    .dataframe tbody tr th {\n",
       "        vertical-align: top;\n",
       "    }\n",
       "\n",
       "    .dataframe thead th {\n",
       "        text-align: right;\n",
       "    }\n",
       "</style>\n",
       "<table border=\"1\" class=\"dataframe\">\n",
       "  <thead>\n",
       "    <tr style=\"text-align: right;\">\n",
       "      <th></th>\n",
       "      <th>出表日期</th>\n",
       "      <th>年度</th>\n",
       "      <th>季別</th>\n",
       "      <th>公司代號</th>\n",
       "      <th>公司名稱</th>\n",
       "      <th>收益</th>\n",
       "      <th>支出及費用</th>\n",
       "      <th>營業利益</th>\n",
       "      <th>營業外損益</th>\n",
       "      <th>稅前淨利（淨損）</th>\n",
       "      <th>...</th>\n",
       "      <th>本期其他綜合損益（稅後淨額）</th>\n",
       "      <th>合併前非屬共同控制股權綜合損益淨額</th>\n",
       "      <th>本期綜合損益總額</th>\n",
       "      <th>淨利（損）歸屬於母公司業主</th>\n",
       "      <th>淨利（淨損）歸屬於共同控制下前手權益</th>\n",
       "      <th>淨利（損）歸屬於非控制權益</th>\n",
       "      <th>綜合損益總額歸屬於母公司業主</th>\n",
       "      <th>綜合損益總額歸屬於共同控制下前手權益</th>\n",
       "      <th>綜合損益總額歸屬於非控制權益</th>\n",
       "      <th>基本每股盈餘（元）</th>\n",
       "    </tr>\n",
       "  </thead>\n",
       "  <tbody>\n",
       "    <tr>\n",
       "      <th>0</th>\n",
       "      <td>1140203</td>\n",
       "      <td></td>\n",
       "      <td></td>\n",
       "      <td></td>\n",
       "      <td></td>\n",
       "      <td></td>\n",
       "      <td></td>\n",
       "      <td></td>\n",
       "      <td></td>\n",
       "      <td></td>\n",
       "      <td>...</td>\n",
       "      <td></td>\n",
       "      <td></td>\n",
       "      <td></td>\n",
       "      <td></td>\n",
       "      <td></td>\n",
       "      <td></td>\n",
       "      <td></td>\n",
       "      <td></td>\n",
       "      <td></td>\n",
       "      <td></td>\n",
       "    </tr>\n",
       "  </tbody>\n",
       "</table>\n",
       "<p>1 rows × 25 columns</p>\n",
       "</div>"
      ],
      "text/plain": [
       "      出表日期 年度 季別 公司代號 公司名稱 收益 支出及費用 營業利益 營業外損益 稅前淨利（淨損）  ... 本期其他綜合損益（稅後淨額）  \\\n",
       "0  1140203                                               ...                  \n",
       "\n",
       "  合併前非屬共同控制股權綜合損益淨額 本期綜合損益總額 淨利（損）歸屬於母公司業主 淨利（淨損）歸屬於共同控制下前手權益 淨利（損）歸屬於非控制權益  \\\n",
       "0                                                                             \n",
       "\n",
       "  綜合損益總額歸屬於母公司業主 綜合損益總額歸屬於共同控制下前手權益 綜合損益總額歸屬於非控制權益 基本每股盈餘（元）  \n",
       "0                                                             \n",
       "\n",
       "[1 rows x 25 columns]"
      ]
     },
     "execution_count": 5,
     "metadata": {},
     "output_type": "execute_result"
    }
   ],
   "source": [
    "ISdf"
   ]
  },
  {
   "cell_type": "code",
   "execution_count": 6,
   "metadata": {},
   "outputs": [],
   "source": [
    "# 輸入欲查詢公司號以及年分、時間長度\n",
    "# 綜合損益表評估之指標 -> 淨利（損）歸屬於母公司業主, 基本每股盈餘（元）, 稅前淨利（淨損）, 本期其他綜合損益（稅後淨額）, 收益   ## (可以試試看寫,markdown file問要留那些數值來評估)\n",
    "# 查詢 / 合併\n",
    "\n",
    "def getData(df, company_id, fields):\n",
    "    filtered_df = df[\n",
    "        (df[\"公司代號\"] == company_id)\n",
    "    ]\n",
    "    selected_df = filtered_df[fields]\n",
    "\n",
    "    return selected_df\n",
    "\n",
    "result_IS = []\n",
    "result_BS = []\n",
    "\n",
    "def listAdding(df, defaultList):\n",
    "    defaultList.append(df)\n",
    "    finalList = pd.concat(defaultList, ignore_index=True)\n",
    "    \n",
    "    return finalList"
   ]
  },
  {
   "cell_type": "code",
   "execution_count": 7,
   "metadata": {},
   "outputs": [],
   "source": [
    "fields_IS = [\"公司代號\", \"公司名稱\", \"收益\", \"營業利益\", \"稅前淨利（淨損）\", \"本期淨利（淨損）\", \"所得稅費用（利益）\",  \"本期綜合損益總額\", \"基本每股盈餘（元）\"]\n",
    "fields_BS = [\"公司代號\", \"流動資產\", \"流動負債\", \"負債總計\", \"每股參考淨值\", \"保留盈餘（或累積虧損）\"]\n",
    "companyList = []\n",
    "companyNumber = int(input(\"enter the number you'd like to look up: \"))\n",
    "\n",
    "\n",
    "for i in range(companyNumber):\n",
    "    id = input(\"enter the companuy id you'd like to look up: \")\n",
    "    companyList.append(id)\n",
    "\n",
    "for id in companyList:\n",
    "    filteredIS = getData(ISdf, id, fields_IS)\n",
    "    filteredBS = getData(BSdf, id, fields_BS)\n",
    "    \n",
    "    finalIS = listAdding(filteredIS, result_IS)\n",
    "    finalBS = listAdding(filteredBS, result_BS)\n",
    "\n",
    "finaldf = pd.merge(finalIS, BSdf, on=\"公司代號\", how=\"inner\")"
   ]
  },
  {
   "cell_type": "code",
   "execution_count": 8,
   "metadata": {},
   "outputs": [
    {
     "data": {
      "text/html": [
       "<div>\n",
       "<style scoped>\n",
       "    .dataframe tbody tr th:only-of-type {\n",
       "        vertical-align: middle;\n",
       "    }\n",
       "\n",
       "    .dataframe tbody tr th {\n",
       "        vertical-align: top;\n",
       "    }\n",
       "\n",
       "    .dataframe thead th {\n",
       "        text-align: right;\n",
       "    }\n",
       "</style>\n",
       "<table border=\"1\" class=\"dataframe\">\n",
       "  <thead>\n",
       "    <tr style=\"text-align: right;\">\n",
       "      <th></th>\n",
       "      <th>公司代號</th>\n",
       "      <th>公司名稱_x</th>\n",
       "      <th>收益</th>\n",
       "      <th>營業利益</th>\n",
       "      <th>稅前淨利（淨損）</th>\n",
       "      <th>本期淨利（淨損）</th>\n",
       "      <th>所得稅費用（利益）</th>\n",
       "      <th>本期綜合損益總額</th>\n",
       "      <th>基本每股盈餘（元）</th>\n",
       "      <th>出表日期</th>\n",
       "      <th>...</th>\n",
       "      <th>庫藏股票</th>\n",
       "      <th>歸屬於母公司業主權益合計</th>\n",
       "      <th>共同控制下前手權益</th>\n",
       "      <th>合併前非屬共同控制股權</th>\n",
       "      <th>非控制權益</th>\n",
       "      <th>權益總計</th>\n",
       "      <th>待註銷股本股數（單位：股）</th>\n",
       "      <th>預收股款（權益項下）之約當發行股數（單位：股）</th>\n",
       "      <th>母公司暨子公司持有之母公司庫藏股股數（單位：股）</th>\n",
       "      <th>每股參考淨值</th>\n",
       "    </tr>\n",
       "  </thead>\n",
       "  <tbody>\n",
       "  </tbody>\n",
       "</table>\n",
       "<p>0 rows × 34 columns</p>\n",
       "</div>"
      ],
      "text/plain": [
       "Empty DataFrame\n",
       "Columns: [公司代號, 公司名稱_x, 收益, 營業利益, 稅前淨利（淨損）, 本期淨利（淨損）, 所得稅費用（利益）, 本期綜合損益總額, 基本每股盈餘（元）, 出表日期, 年度, 季別, 公司名稱_y, 流動資產, 非流動資產, 資產總計, 流動負債, 非流動負債, 負債總計, 股本, 權益－具證券性質之虛擬通貨, 資本公積, 保留盈餘（或累積虧損）, 其他權益, 庫藏股票, 歸屬於母公司業主權益合計, 共同控制下前手權益, 合併前非屬共同控制股權, 非控制權益, 權益總計, 待註銷股本股數（單位：股）, 預收股款（權益項下）之約當發行股數（單位：股）, 母公司暨子公司持有之母公司庫藏股股數（單位：股）, 每股參考淨值]\n",
       "Index: []\n",
       "\n",
       "[0 rows x 34 columns]"
      ]
     },
     "execution_count": 8,
     "metadata": {},
     "output_type": "execute_result"
    }
   ],
   "source": [
    "finaldf"
   ]
  },
  {
   "cell_type": "code",
   "execution_count": 9,
   "metadata": {},
   "outputs": [],
   "source": [
    "# finaldf.to_csv(\"final_result_1.csv\", index=False, encoding=\"utf-8-sig\")"
   ]
  },
  {
   "cell_type": "code",
   "execution_count": 10,
   "metadata": {},
   "outputs": [],
   "source": [
    "## 資料視覺化"
   ]
  },
  {
   "cell_type": "code",
   "execution_count": 11,
   "metadata": {},
   "outputs": [],
   "source": [
    "# import pandas as pd\n",
    "# import numpy as np\n",
    "# import matplotlib.pyplot as plt\n",
    "# import seaborn as sns\n",
    "# from sklearn.preprocessing import MinMaxScaler\n",
    "# import plotly.graph_objects as go"
   ]
  },
  {
   "cell_type": "code",
   "execution_count": 12,
   "metadata": {},
   "outputs": [],
   "source": [
    "# finaldf.set_index(\"公司代號\", inplace=True)\n",
    "\n",
    "# ### 🔹 方法1：雷達圖（Radar Chart）\n",
    "# def plot_radar_chart(df):\n",
    "#     categories = df.columns\n",
    "#     num_vars = len(categories)\n",
    "    \n",
    "#     angles = np.linspace(0, 2 * np.pi, num_vars, endpoint=False).tolist()\n",
    "#     angles += angles[:1]  # 關閉雷達圖環形\n",
    "    \n",
    "#     fig, ax = plt.subplots(figsize=(8, 8), subplot_kw=dict(polar=True))\n",
    "    \n",
    "#     for idx, row in df.iterrows():\n",
    "#         values = row.tolist()\n",
    "#         values += values[:1]\n",
    "#         ax.plot(angles, values, label=idx, linewidth=2)\n",
    "#         ax.fill(angles, values, alpha=0.25)\n",
    "    \n",
    "#     ax.set_xticks(angles[:-1])\n",
    "#     ax.set_xticklabels(categories, fontsize=12)\n",
    "#     ax.legend(loc='upper right', bbox_to_anchor=(1.2, 1.1))\n",
    "#     ax.set_title(\"股票數據雷達圖\", fontsize=14)\n",
    "    \n",
    "#     plt.show()\n",
    "\n",
    "# ### 🔹 方法2：標準化後的群組柱狀圖\n",
    "# def plot_standardized_grouped_bar_chart(df):\n",
    "#     scaler = MinMaxScaler()\n",
    "#     df_scaled = pd.DataFrame(scaler.fit_transform(df), columns=df.columns, index=df.index)\n",
    "    \n",
    "#     df_scaled.plot(kind=\"bar\", figsize=(10, 6), colormap=\"viridis\", edgecolor=\"black\")\n",
    "#     plt.title(\"標準化後的股票數據群組柱狀圖\")\n",
    "#     plt.ylabel(\"標準化值（0~1）\")\n",
    "#     plt.xticks(rotation=0)\n",
    "#     plt.legend(title=\"指標\")\n",
    "#     plt.grid(axis=\"y\", linestyle=\"--\", alpha=0.7)\n",
    "    \n",
    "#     plt.show()\n",
    "\n",
    "# # 執行視覺化\n",
    "# # plot_radar_chart(finaldf)\n",
    "# plot_standardized_grouped_bar_chart(finaldf)\n"
   ]
  },
  {
   "cell_type": "code",
   "execution_count": null,
   "metadata": {},
   "outputs": [],
   "source": []
  }
 ],
 "metadata": {
  "kernelspec": {
   "display_name": "Python 3",
   "language": "python",
   "name": "python3"
  },
  "language_info": {
   "codemirror_mode": {
    "name": "ipython",
    "version": 3
   },
   "file_extension": ".py",
   "mimetype": "text/x-python",
   "name": "python",
   "nbconvert_exporter": "python",
   "pygments_lexer": "ipython3",
   "version": "3.12.7"
  }
 },
 "nbformat": 4,
 "nbformat_minor": 2
}
