{
 "cells": [
  {
   "cell_type": "code",
   "execution_count": 1,
   "metadata": {},
   "outputs": [],
   "source": [
    "import dataProcessing\n",
    "import promptNgenAI "
   ]
  },
  {
   "cell_type": "code",
   "execution_count": 9,
   "metadata": {},
   "outputs": [],
   "source": [
    "import requests\n",
    "import pandas as pd"
   ]
  },
  {
   "cell_type": "code",
   "execution_count": 3,
   "metadata": {},
   "outputs": [],
   "source": [
    "BSUrl = \"https://www.tpex.org.tw/openapi/v1/mopsfin_t187ap07_O_bd\"\n",
    "\n",
    "BSResponse = requests.get(BSUrl)\n",
    "a = BSResponse.json()\n",
    "BSdf = pd.DataFrame(a)"
   ]
  },
  {
   "cell_type": "code",
   "execution_count": 4,
   "metadata": {},
   "outputs": [],
   "source": [
    "ISurl = \"https://www.tpex.org.tw/openapi/v1/mopsfin_t187ap06_O_bdA\"\n",
    "\n",
    "ISresponse = requests.get(ISurl)\n",
    "b = ISresponse.json()\n",
    "ISdf = pd.DataFrame(b)"
   ]
  },
  {
   "cell_type": "code",
   "execution_count": 5,
   "metadata": {},
   "outputs": [],
   "source": [
    "fields_IS = [\"公司代號\", \"公司名稱\", \"收益\", \"營業利益\", \"稅前淨利（淨損）\", \"本期淨利（淨損）\", \"所得稅費用（利益）\",  \"本期綜合損益總額\", \"基本每股盈餘（元）\"]\n",
    "fields_BS = [\"公司代號\", \"流動資產\", \"流動負債\", \"負債總計\", \"每股參考淨值\", \"保留盈餘（或累積虧損）\"]\n",
    "companyList = []\n",
    "result_IS = []\n",
    "result_BS = []\n",
    "companyNumber = int(input(\"enter the number you'd like to look up: \"))\n",
    "\n",
    "for i in range(companyNumber):\n",
    "    id = input(\"enter the companuy id you'd like to look up: \")\n",
    "    companyList.append(id)\n",
    "\n",
    "for id in companyList:\n",
    "    filteredIS = dataProcessing.getData(ISdf, id, fields_IS)\n",
    "    filteredBS = dataProcessing.getData(BSdf, id, fields_BS)\n",
    "    \n",
    "    finalIS = dataProcessing.listAdding(filteredIS, result_IS)\n",
    "    finalBS = dataProcessing.listAdding(filteredBS, result_BS)\n",
    "\n",
    "finaldf = pd.merge(finalIS, BSdf, on=\"公司代號\", how=\"inner\")\n",
    "\n",
    "# finaldf.to_csv(\"final_result_1.csv\", index=False, encoding=\"utf-8-sig\")"
   ]
  },
  {
   "cell_type": "code",
   "execution_count": 6,
   "metadata": {},
   "outputs": [
    {
     "name": "stdout",
     "output_type": "stream",
     "text": [
      "**值得關注的公司及其指標：**\n",
      "\n",
      "* **宏遠證 (6015)**\n",
      "    * 價值投資策略：基本每股盈餘 (EPS) 為 0.96 元，低於同業平均，可能被低估。\n",
      "    * 低波動選股策略：基本每股盈餘和本期淨利相對穩定。\n",
      "\n",
      "* **康和證 (6016)**\n",
      "    * 價值投資策略：基本每股盈餘 (EPS) 為 1.46 元，低於同業平均，可能被低估。\n",
      "    * 動量交易策略：營收和淨利潤連續多季增長。\n",
      "\n",
      "**投資建議：**\n",
      "\n",
      "* **宏遠證 (6015)**\n",
      "    * 價值投資策略：長期持有，預期股價將隨著基本面改善而上漲。\n",
      "* **康和證 (6016)**\n",
      "    * 動量交易策略：在股價突破近期高點時買入，預期漲勢將持續。\n",
      "* **大展證 (6020)**\n",
      "    * 低波動選股策略：適合低風險投資者長期持有，預期股價波動較小。\n",
      "\n",
      "**注意事項：**\n",
      "\n",
      "* 以上分析僅基於提供的財務數據，不構成投資建議。\n",
      "* 在做出任何投資決定之前，應考慮個人風險承受能力、投資目標和市場狀況。\n",
      "* 建議諮詢專業的財務顧問，以獲得量身定制的投資建議。\n"
     ]
    }
   ],
   "source": [
    "dataStr = promptNgenAI.dataReader(\"final_result_1.csv\")\n",
    "report = promptNgenAI.aiAdvisor(dataStr)\n",
    "print(report)"
   ]
  },
  {
   "cell_type": "code",
   "execution_count": 7,
   "metadata": {},
   "outputs": [
    {
     "name": "stdout",
     "output_type": "stream",
     "text": [
      "[{'role': 'user', 'content': '\\n    你是一位專業的投資顧問，專注於低頻交易策略。\\n    請根據以下財務數據，為投資者設計合適的低頻交易策略：\\n    1. 價值投資策略：根據「營收」、「本期淨利」、「基本每股盈餘（EPS）」等數據，評估是否有低估的股票適合長期持有。\\n    2. 動量交易策略：如果某些公司連續幾季「營收」或「淨利潤」增長，請標記出來，作為潛在的投資標的。\\n    3. 低波動選股策略：挑選「基本每股盈餘」和「本期淨利」較穩定的公司，適合低風險投資者持有。\\n\\n    請提供你的分析結果，包括：\\n    - 你認為值得關注的公司及其指標\\n    - 該公司適用的策略（價值投資、動量交易、低波動選股）\\n    - 具體的投資建議\\n\\n    以下是最新的財務數據：\\n       公司代號 公司名稱_x         收益      營業利益   稅前淨利（淨損）  本期淨利（淨損）  所得稅費用（利益）   本期綜合損益總額  基本每股盈餘（元）     出表日期   年度  季別 公司名稱_y        流動資產      非流動資產        資產總計        流動負債      非流動負債        負債總計         股本  權益－具證券性質之虛擬通貨      資本公積  保留盈餘（或累積虧損）      其他權益  庫藏股票  歸屬於母公司業主權益合計  共同控制下前手權益  合併前非屬共同控制股權    非控制權益       權益總計  待註銷股本股數（單位：股）  預收股款（權益項下）之約當發行股數（單位：股）  母公司暨子公司持有之母公司庫藏股股數（單位：股）  每股參考淨值\\n0  6015    宏遠證  1274506.0  214770.0   405603.0  352180.0    53423.0   348832.0       0.96  1140131  113   3    宏遠證  13206073.0  1586623.0  14792696.0   8888378.0   492895.0   9381273.0  3892421.0            NaN  389164.0     997430.0  132408.0   NaN     5411423.0        NaN          NaN      NaN  5411423.0            0.0                4355120.0                       0.0   13.90\\n1  6016    康和證  3061076.0  785930.0  1030957.0  915653.0   115304.0  1175911.0       1.46  1140131  113   3    康和證  40120558.0  6786022.0  46906580.0  36145849.0  1046156.0  37192005.0  6241777.0            NaN  175331.0    2534540.0  701680.0   NaN     9653328.0        NaN          NaN  61247.0  9714575.0            0.0                      0.0                       0.0   15.47\\n2  6020    大展證   372205.0  181787.0   229286.0  208006.0    21280.0   336944.0       0.82  1140131  113   3    大展證   5641199.0  1263255.0   6904454.0   2183821.0     1775.0   2185596.0  2523532.0            NaN     461.0    1604730.0  589672.0   NaN     4718395.0        NaN          NaN    463.0  4718858.0            0.0                      0.0                       0.0   18.70\\n    '}, {'role': 'assistant', 'content': '**值得關注的公司及其指標：**\\n\\n* **宏遠證 (6015)**\\n    * 價值投資策略：基本每股盈餘 (EPS) 為 0.96 元，低於同業平均，可能被低估。\\n    * 低波動選股策略：基本每股盈餘和本期淨利相對穩定。\\n\\n* **康和證 (6016)**\\n    * 價值投資策略：基本每股盈餘 (EPS) 為 1.46 元，低於同業平均，可能被低估。\\n    * 動量交易策略：營收和淨利潤連續多季增長。\\n\\n**投資建議：**\\n\\n* **宏遠證 (6015)**\\n    * 價值投資策略：長期持有，預期股價將隨著基本面改善而上漲。\\n* **康和證 (6016)**\\n    * 動量交易策略：在股價突破近期高點時買入，預期漲勢將持續。\\n* **大展證 (6020)**\\n    * 低波動選股策略：適合低風險投資者長期持有，預期股價波動較小。\\n\\n**注意事項：**\\n\\n* 以上分析僅基於提供的財務數據，不構成投資建議。\\n* 在做出任何投資決定之前，應考慮個人風險承受能力、投資目標和市場狀況。\\n* 建議諮詢專業的財務顧問，以獲得量身定制的投資建議。'}]\n"
     ]
    }
   ],
   "source": [
    "convo = promptNgenAI.getHistory()\n",
    "print(convo)"
   ]
  },
  {
   "cell_type": "code",
   "execution_count": 8,
   "metadata": {},
   "outputs": [
    {
     "name": "stdout",
     "output_type": "stream",
     "text": [
      "根據 3 分的評價，可以推斷出原先的 Prompt 對於財務數據分析的清晰度和實用性可能不足。因此，優化後的 Prompt 應更具體地說明所需的分析和建議的格式：\n",
      "\n",
      "**優化後的 Prompt：**\n",
      "\n",
      "你是一位專業的投資顧問，專注於低頻交易策略。\n",
      "\n",
      "**請根據以下財務數據，為投資者設計合適的低頻交易策略：**\n",
      "\n",
      "1. **價值投資策略：** 根據「營收」、「本期淨利」、「基本每股盈餘（EPS）」等數據，找出價值被低估且適合長期持有的股票。提供符合以下條件的股票清單：\n",
      "    - 「市盈率 (PE)」低於行業平均值\n",
      "    - 「市淨率 (PB)」低於 1\n",
      "    - 「股價淨值比 (P/B)」低於 0.8\n",
      "\n",
      "2. **動量交易策略：** 找出連續 4 個季度「營收」或「淨利潤」增長的公司。提供符合以下條件的股票清單：\n",
      "    - 「季成長率」大於 10%\n",
      "    - 「年成長率」大於 20%\n",
      "    - 「相對強弱指標 (RSI)」大於 50\n",
      "\n",
      "3. **低波動選股策略：** 找出「基本每股盈餘」和「本期淨利」在過去 5 個季度波動小於 5% 的公司。提供符合以下條件的股票清單：\n",
      "    - 「標準差」小於 5%\n",
      "    - 「變異係數」小於 10%\n",
      "    - 「貝塔值」低於 1\n",
      "\n",
      "**請提供你的分析結果，包括：**\n",
      "\n",
      "- 符合上述條件的股票清單\n",
      "- 該公司適用的策略（價值投資、動量交易、低波動選股）\n",
      "- 具體的投資建議，包括建議持有期間和目標報酬率\n",
      "\n",
      "**財務數據：**\n",
      "\n",
      "[最新財務數據]\n",
      "\n",
      "**修改說明：**\n",
      "\n",
      "- 更明確地說明了所需的分析條件和股票清單格式。\n",
      "- 引入了客觀的財務指標，例如市盈率、市淨率、RSI 和標準差，以提高分析的準確性和可比性。\n",
      "- 添加了目標報酬率和持有期間等實用的投資建議。\n"
     ]
    }
   ],
   "source": [
    "prompting = \"\"\"\n",
    "你是一位專業的投資顧問，專注於低頻交易策略。\n",
    "請根據以下財務數據，為投資者設計合適的低頻交易策略：\n",
    "1. 價值投資策略：根據「營收」、「本期淨利」、「基本每股盈餘（EPS）」等數據，評估是否有低估的股票適合長期持有。\n",
    "2. 動量交易策略：如果某些公司連續幾季「營收」或「淨利潤」增長，請標記出來，作為潛在的投資標的。\n",
    "3. 低波動選股策略：挑選「基本每股盈餘」和「本期淨利」較穩定的公司，適合低風險投資者持有。\n",
    "\n",
    "請提供你的分析結果，包括：\n",
    "- 你認為值得關注的公司及其指標\n",
    "- 該公司適用的策略（價值投資、動量交易、低波動選股）\n",
    "- 具體的投資建議\n",
    "\n",
    "以下是最新的財務數據：\n",
    "\"\"\"\n",
    "\n",
    "newPrompt = promptNgenAI.promptImprovement(prompting, 3)\n",
    "print(newPrompt)"
   ]
  }
 ],
 "metadata": {
  "kernelspec": {
   "display_name": "Python 3",
   "language": "python",
   "name": "python3"
  },
  "language_info": {
   "codemirror_mode": {
    "name": "ipython",
    "version": 3
   },
   "file_extension": ".py",
   "mimetype": "text/x-python",
   "name": "python",
   "nbconvert_exporter": "python",
   "pygments_lexer": "ipython3",
   "version": "3.12.7"
  }
 },
 "nbformat": 4,
 "nbformat_minor": 2
}
